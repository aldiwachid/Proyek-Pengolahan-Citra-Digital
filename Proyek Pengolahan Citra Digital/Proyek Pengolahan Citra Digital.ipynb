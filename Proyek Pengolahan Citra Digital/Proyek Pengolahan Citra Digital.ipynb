{
 "cells": [
  {
   "cell_type": "markdown",
   "metadata": {},
   "source": [
    "<h1>Pengolahan Citra Digital</h1>"
   ]
  },
  {
   "cell_type": "code",
   "execution_count": 1,
   "metadata": {
    "scrolled": true
   },
   "outputs": [],
   "source": [
    "import numpy as np\n",
    "import cv2\n",
    "from matplotlib import pyplot as plt"
   ]
  },
  {
   "cell_type": "code",
   "execution_count": 2,
   "metadata": {},
   "outputs": [],
   "source": [
    "img = cv2.imread(\"beras.jpg\")"
   ]
  },
  {
   "cell_type": "code",
   "execution_count": 18,
   "metadata": {
    "scrolled": true
   },
   "outputs": [
    {
     "data": {
      "image/png": "[encoded data removed]",
      "text/plain": [
       "<Figure size 432x288 with 1 Axes>"
      ]
     },
     "metadata": {
      "needs_background": "light"
     },
     "output_type": "display_data"
    }
   ],
   "source": [
    "beras2 = cv2.imread(\"beras.jpg\")\n",
    "plt.title('Citra Awal')\n",
    "plt.imshow(beras2)\n",
    "plt.show()"
   ]
  },
  {
   "cell_type": "code",
   "execution_count": 3,
   "metadata": {},
   "outputs": [
    {
     "data": {
      "text/plain": [
       "array([[[2, 2, 2],\n",
       "        [1, 1, 1],\n",
       "        [0, 0, 0],\n",
       "        ...,\n",
       "        [0, 0, 0],\n",
       "        [0, 0, 0],\n",
       "        [0, 0, 0]],\n",
       "\n",
       "       [[1, 1, 1],\n",
       "        [1, 1, 1],\n",
       "        [0, 0, 0],\n",
       "        ...,\n",
       "        [0, 0, 0],\n",
       "        [0, 0, 0],\n",
       "        [0, 0, 0]],\n",
       "\n",
       "       [[0, 0, 0],\n",
       "        [1, 1, 1],\n",
       "        [1, 1, 1],\n",
       "        ...,\n",
       "        [0, 0, 0],\n",
       "        [0, 0, 0],\n",
       "        [0, 0, 0]],\n",
       "\n",
       "       ...,\n",
       "\n",
       "       [[0, 0, 0],\n",
       "        [0, 0, 0],\n",
       "        [0, 0, 0],\n",
       "        ...,\n",
       "        [0, 0, 0],\n",
       "        [0, 0, 0],\n",
       "        [0, 0, 0]],\n",
       "\n",
       "       [[0, 0, 0],\n",
       "        [0, 0, 0],\n",
       "        [0, 0, 0],\n",
       "        ...,\n",
       "        [0, 0, 0],\n",
       "        [0, 0, 0],\n",
       "        [0, 0, 0]],\n",
       "\n",
       "       [[0, 0, 0],\n",
       "        [0, 0, 0],\n",
       "        [0, 0, 0],\n",
       "        ...,\n",
       "        [0, 0, 0],\n",
       "        [0, 0, 0],\n",
       "        [0, 0, 0]]], dtype=uint8)"
      ]
     },
     "execution_count": 3,
     "metadata": {},
     "output_type": "execute_result"
    }
   ],
   "source": [
    "img"
   ]
  },
  {
   "cell_type": "code",
   "execution_count": 5,
   "metadata": {},
   "outputs": [
    {
     "data": {
      "text/plain": [
       "(96, 96, 3)"
      ]
     },
     "execution_count": 5,
     "metadata": {},
     "output_type": "execute_result"
    }
   ],
   "source": [
    "#menampilkan dimensi array gambar\n",
    "img.shape"
   ]
  },
  {
   "cell_type": "code",
   "execution_count": 6,
   "metadata": {},
   "outputs": [
    {
     "name": "stderr",
     "output_type": "stream",
     "text": [
      "C:\\Users\\User\\Anaconda3\\lib\\site-packages\\ipykernel_launcher.py:6: RuntimeWarning: overflow encountered in ubyte_scalars\n",
      "  \n"
     ]
    }
   ],
   "source": [
    "grayscale = []\n",
    "\n",
    "for i in img :\n",
    "    row = []\n",
    "    for j in i :\n",
    "        row.append((j[0]+j[1]+j[2])/3)\n",
    "    grayscale.append(row)\n",
    "        "
   ]
  },
  {
   "cell_type": "code",
   "execution_count": 20,
   "metadata": {},
   "outputs": [
    {
     "data": {
      "image/png": "[encoded data removed]",
      "text/plain": [
       "<Figure size 432x288 with 1 Axes>"
      ]
     },
     "metadata": {
      "needs_background": "light"
     },
     "output_type": "display_data"
    }
   ],
   "source": [
    "plt.title('Citra Ketika Diubah ke Grayscale')\n",
    "plt.imshow(grayscale)\n",
    "plt.show()"
   ]
  },
  {
   "cell_type": "code",
   "execution_count": 8,
   "metadata": {},
   "outputs": [
    {
     "name": "stdout",
     "output_type": "stream",
     "text": [
      "16.0\n"
     ]
    }
   ],
   "source": [
    "gsNp = np.array(grayscale)\n",
    "h,w = np.shape(gsNp)\n",
    "t=1 #initial condition\n",
    "g1 = []\n",
    "g2 = []\n",
    "\n",
    "#calculating t by algorithm\n",
    "while(1):\n",
    "    for px in range(0,h):\n",
    "        for py in range(0,w):\n",
    "            if (gsNp[px][py] < t):\n",
    "                g1.append(gsNp[px][py])\n",
    "            else:\n",
    "                g2.append(gsNp[px][py])\n",
    "    mu1 = sum(g1) / len(g1)\n",
    "#     print(g2)\n",
    "    mu2 = sum(g2) / len(g2)\n",
    "    t0=t\n",
    "    t = ((mu1+ mu2)/2)\n",
    "    delta_t = abs(t-t0)\n",
    "#     print(mu1,mu2,t,delta_t)\n",
    "    if(delta_t < 1):\n",
    "        break\n",
    "rata2 = round(t,0)\n",
    "print(rata2)"
   ]
  },
  {
   "cell_type": "code",
   "execution_count": 23,
   "metadata": {},
   "outputs": [
    {
     "data": {
      "image/png": "[encoded data removed]",
      "text/plain": [
       "<Figure size 432x288 with 1 Axes>"
      ]
     },
     "metadata": {
      "needs_background": "light"
     },
     "output_type": "display_data"
    }
   ],
   "source": [
    "# thres_finder(img)\n",
    "np.shape(gsNp)\n",
    "def global_threshold(image, thres_value, val_high, val_low):\n",
    "    img = image.copy()\n",
    "    for i in range(image.shape[0]):\n",
    "        for j in range(image.shape[1]):\n",
    "            if image[i,j] > thres_value:\n",
    "                img[i,j] = val_high\n",
    "            else:\n",
    "                img[i,j] = val_low\n",
    "    return img\n",
    "\n",
    "setelahnya = global_threshold(gsNp,rata2,255,0)\n",
    "plt.title('Citra Ketika Diubah Dengan Metode Treshold')\n",
    "plt.imshow(setelahnya, cmap='gray', vmin=0, vmax=255)\n",
    "plt.show()"
   ]
  },
  {
   "cell_type": "code",
   "execution_count": 10,
   "metadata": {},
   "outputs": [],
   "source": [
    "hsv_img = cv2.cvtColor(img, cv2.COLOR_BGR2HSV)"
   ]
  },
  {
   "cell_type": "code",
   "execution_count": 11,
   "metadata": {},
   "outputs": [
    {
     "data": {
      "text/plain": [
       "(96, 96, 3)"
      ]
     },
     "execution_count": 11,
     "metadata": {},
     "output_type": "execute_result"
    }
   ],
   "source": [
    "hsv_img.shape"
   ]
  },
  {
   "cell_type": "code",
   "execution_count": 12,
   "metadata": {},
   "outputs": [],
   "source": [
    "kebersihan = \"\"\n",
    "for x in range(0,hsv_img.shape[0]):\n",
    "    for y in range(0, hsv_img.shape[1]):\n",
    "        if (hsv_img[x,y,1] < 0.4) and (hsv_img[x,y,2] > 0.55):\n",
    "            kebersihan = \"Bersih\"\n",
    "        else:\n",
    "            kebersihan = \"Tidak Bersih\""
   ]
  },
  {
   "cell_type": "code",
   "execution_count": 13,
   "metadata": {},
   "outputs": [
    {
     "data": {
      "text/plain": [
       "'Tidak Bersih'"
      ]
     },
     "execution_count": 13,
     "metadata": {},
     "output_type": "execute_result"
    }
   ],
   "source": [
    "kebersihan"
   ]
  },
  {
   "cell_type": "code",
   "execution_count": 14,
   "metadata": {},
   "outputs": [],
   "source": [
    "warna = \"\"\n",
    "for x in range(0,hsv_img.shape[0]):\n",
    "    for y in range(0, hsv_img.shape[1]):\n",
    "        if (hsv_img[x,y,0] > 0.2 and hsv_img[x,y,0] < 0.7) and (hsv_img[x,y,1] > 0.01 and hsv_img[x,y,1] < 0.3) and (hsv_img[x,y,2] > 0.55 and hsv_img[x,y,2] < 0.9):\n",
    "            warna = \"Putih\"\n",
    "        else:\n",
    "            warna = \"Tidak Putih\""
   ]
  },
  {
   "cell_type": "code",
   "execution_count": 15,
   "metadata": {},
   "outputs": [
    {
     "data": {
      "text/plain": [
       "'Tidak Putih'"
      ]
     },
     "execution_count": 15,
     "metadata": {},
     "output_type": "execute_result"
    }
   ],
   "source": [
    "warna"
   ]
  },
  {
   "cell_type": "markdown",
   "metadata": {},
   "source": [
    "<h1>Pohon Keputusan</h1>\n",
    "<img src=\"pohon.png\" >"
   ]
  },
  {
   "cell_type": "code",
   "execution_count": 16,
   "metadata": {},
   "outputs": [
    {
     "name": "stdout",
     "output_type": "stream",
     "text": [
      "Buruk\n"
     ]
    }
   ],
   "source": [
    "if kebersihan == \"Bersih\":\n",
    "    if warna == \"Putih\":\n",
    "        print(\"Baik\")\n",
    "    else:\n",
    "        print(\"Kurang\")\n",
    "else:\n",
    "    if warna == \"Putih\":\n",
    "        print(\"Kurang\")\n",
    "    else:\n",
    "        print(\"Buruk\")\n",
    "    "
   ]
  },
  {
   "cell_type": "markdown",
   "metadata": {},
   "source": [
    "Jadi, hasil dari perhitungan dan analisis diatas, beras tersebut disimpulkan berkualitas Buruk."
   ]
  }
 ],
 "metadata": {
  "kernelspec": {
   "display_name": "Python 3",
   "language": "python",
   "name": "python3"
  },
  "language_info": {
   "codemirror_mode": {
    "name": "ipython",
    "version": 3
   },
   "file_extension": ".py",
   "mimetype": "text/x-python",
   "name": "python",
   "nbconvert_exporter": "python",
   "pygments_lexer": "ipython3",
   "version": "3.7.4"
  }
 },
 "nbformat": 4,
 "nbformat_minor": 2
}
